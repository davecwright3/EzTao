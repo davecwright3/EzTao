{
 "cells": [
  {
   "cell_type": "markdown",
   "metadata": {},
   "source": [
    "### Investigate the convertion from CARMA params to Celerite terms\n",
    "\n",
    "<br>**Author(s):** Weixiang Yu\n",
    "<br>**Last run:** 06-17-20\n",
    "<br>**Short description:** Two tasks: 1. Examine the built in CARMA solver of Celertie; 2. If not working, develope a new convertion fuction."
   ]
  },
  {
   "cell_type": "code",
   "execution_count": 2,
   "metadata": {},
   "outputs": [],
   "source": [
    "# import basic packages\n",
    "import numpy as np\n",
    "import pandas as pd\n",
    "import matplotlib.pyplot as plt\n",
    "import matplotlib as mpl\n",
    "import os, sys\n",
    "\n",
    "# see if local stores mpl style, else use from src\n",
    "try:\n",
    "    plt.style.use('yu_basic')\n",
    "except:\n",
    "    mpl.rc_file('../../src/vis/mpl/yu_basic.rc')\n",
    "\n",
    "pd.set_option('display.max_columns', 999)\n",
    "%matplotlib inline"
   ]
  },
  {
   "cell_type": "code",
   "execution_count": 3,
   "metadata": {},
   "outputs": [],
   "source": [
    "import celerite\n",
    "from celerite import GP, terms\n",
    "from celerite.solver import get_kernel_value, CARMASolver"
   ]
  },
  {
   "cell_type": "markdown",
   "metadata": {},
   "source": [
    "### 1. Test Celerite CARMA Solver\n",
    "The first step is to see whether the built in CARMASolver give the correct convertion by examing the the ACF of a input CARMA model. Given an overdamped 2nd order CARMA model (two real roots), we know the ACF pairs must have opposite signs. And thus the corresponding Celerite real terms must also have opposite signs. \n",
    "<br> Here we are using a CARMA(2,0) model, with AR parameters: [2, 0.8] and $\\sigma$ = 1"
   ]
  },
  {
   "cell_type": "code",
   "execution_count": 4,
   "metadata": {},
   "outputs": [
    {
     "name": "stdout",
     "output_type": "stream",
     "text": [
      "AR roots: [-1.4472136 -0.5527864]\n"
     ]
    }
   ],
   "source": [
    "# compute the ACF of the input model\n",
    "arroots = np.roots([1, 2, 0.8])\n",
    "sigma = 1\n",
    "print (f'AR roots: {arroots}')"
   ]
  },
  {
   "cell_type": "code",
   "execution_count": 10,
   "metadata": {},
   "outputs": [
    {
     "name": "stdout",
     "output_type": "stream",
     "text": [
      "ACF for root 1: -0.19313562148434218\n",
      "ACF for root 2: 0.5056356214843422\n"
     ]
    }
   ],
   "source": [
    "r1, r2 = arroots\n",
    "acf_1 = sigma**2/(-2*r1*(r2-r1)*(r2+r1))\n",
    "acf_2 = sigma**2/(-2*r2*(r1-r2)*(r1+r2))\n",
    "print(f'ACF for root 1: {acf_1}')\n",
    "print(f'ACF for root 2: {acf_2}')"
   ]
  },
  {
   "cell_type": "markdown",
   "metadata": {},
   "source": [
    "#### Now see what Celerite returns"
   ]
  },
  {
   "cell_type": "code",
   "execution_count": 16,
   "metadata": {},
   "outputs": [
    {
     "data": {
      "text/plain": [
       "(array([], dtype=float64),\n",
       " array([], dtype=float64),\n",
       " array([0.03040503]),\n",
       " array([-0.01364223]),\n",
       " array([1.11277046]),\n",
       " array([-2.48008024]))"
      ]
     },
     "execution_count": 16,
     "metadata": {},
     "output_type": "execute_result"
    }
   ],
   "source": [
    "carma_solver = CARMASolver(0, np.array([2, 0.8]), np.array([]))\n",
    "carma_solver.get_celerite_coeffs()"
   ]
  },
  {
   "cell_type": "markdown",
   "metadata": {},
   "source": [
    "We can see `Celerite` returns a complex kernel instead of two real kernals with opposite signs in $a_{i}$. \n",
    "<br> The conclusion is that we need to write our own mapping function in order to fit CARMA processes with Celerite"
   ]
  },
  {
   "cell_type": "markdown",
   "metadata": {},
   "source": [
    "### 2. CARMA ACF"
   ]
  },
  {
   "cell_type": "code",
   "execution_count": 64,
   "metadata": {},
   "outputs": [],
   "source": [
    "# construct/test using CARMA(2,1), define in Kasliwal's notation and add to Kelly's\n",
    "arparam = np.array([2, 0.8])\n",
    "maparam = np.array([1])\n",
    "\n",
    "sigma = maparam[0]\n",
    "n_maparam = np.array([x/sigma for x in maparam])"
   ]
  },
  {
   "cell_type": "code",
   "execution_count": 65,
   "metadata": {},
   "outputs": [
    {
     "name": "stdout",
     "output_type": "stream",
     "text": [
      "AR roots: [-1.4472136 -0.5527864]\n",
      "MA roots: []\n"
     ]
    }
   ],
   "source": [
    "# get roots\n",
    "arroots = np.roots(np.append([1], arparam))\n",
    "maroots = np.roots(n_maparam[::-1])\n",
    "print(f'AR roots: {arroots}')\n",
    "print(f'MA roots: {maroots}')"
   ]
  },
  {
   "cell_type": "code",
   "execution_count": 66,
   "metadata": {},
   "outputs": [],
   "source": [
    "# variable for order\n",
    "p = len(arparam)\n",
    "q = len(maparam) -1"
   ]
  },
  {
   "cell_type": "markdown",
   "metadata": {},
   "source": [
    "#### 2.1 Vectorized CARMA ACF"
   ]
  },
  {
   "cell_type": "code",
   "execution_count": 67,
   "metadata": {},
   "outputs": [
    {
     "name": "stdout",
     "output_type": "stream",
     "text": [
      "[-0.5527864 -1.4472136]\n"
     ]
    }
   ],
   "source": [
    "# get acf in a vectorized way\n",
    "num_0 = 0\n",
    "num_1 = 0\n",
    "denum = -2*arroots.real\n",
    "\n",
    "for k in range(q+1):\n",
    "    num_0 += maparam[k]*np.power(arroots, k)\n",
    "    num_1 += maparam[k]*np.power(-arroots, k)\n",
    "\n",
    "for j in range(1, p):\n",
    "    root_idx = np.arange(p)\n",
    "    root_k = arroots[np.roll(root_idx, j)]\n",
    "    print(root_k)\n",
    "    denum *= (root_k - arroots)*(np.conj(root_k) + arroots)"
   ]
  },
  {
   "cell_type": "code",
   "execution_count": 69,
   "metadata": {},
   "outputs": [
    {
     "name": "stdout",
     "output_type": "stream",
     "text": [
      "ACF: [-0.19313562  0.50563562]\n"
     ]
    }
   ],
   "source": [
    "print(f'ACF for CARMA(2,0): {num_0*num_1/denum}')"
   ]
  },
  {
   "cell_type": "markdown",
   "metadata": {},
   "source": [
    "#### 2.2 Construct more test examples"
   ]
  },
  {
   "cell_type": "markdown",
   "metadata": {},
   "source": [
    "### 3. From ACF to Celerite Terms"
   ]
  },
  {
   "cell_type": "code",
   "execution_count": null,
   "metadata": {},
   "outputs": [],
   "source": []
  }
 ],
 "metadata": {
  "kernelspec": {
   "display_name": "Python 3",
   "language": "python",
   "name": "python3"
  },
  "language_info": {
   "codemirror_mode": {
    "name": "ipython",
    "version": 3
   },
   "file_extension": ".py",
   "mimetype": "text/x-python",
   "name": "python",
   "nbconvert_exporter": "python",
   "pygments_lexer": "ipython3",
   "version": "3.7.7"
  }
 },
 "nbformat": 4,
 "nbformat_minor": 4
}
