{
 "cells": [
  {
   "cell_type": "markdown",
   "metadata": {},
   "source": [
    "### DHO Likehood Surface Visualization\n",
    "\n",
    "<br>**Author(s):** Weixiang Yu\n",
    "<br>**Last run:** 08-17-20\n",
    "<br>**Short description:** Notebook for testing different global optimizer for DHO fitting where local minima is observed very often."
   ]
  },
  {
   "cell_type": "code",
   "execution_count": 71,
   "metadata": {},
   "outputs": [],
   "source": [
    "# import basic packages\n",
    "import numpy as np\n",
    "import pandas as pd\n",
    "import matplotlib.pyplot as plt\n",
    "import matplotlib as mpl\n",
    "import os, sys\n",
    "\n",
    "# see if local stores mpl style, else use from src\n",
    "try:\n",
    "    plt.style.use('yu_basic')\n",
    "except:\n",
    "    mpl.rc_file('https://raw.githubusercontent.com/ywx649999311/project_template'\n",
    "                '/master/%7B%7Bcookiecutter.project_name%7D%7D/src/vis/mpl/yu_basic.rc')\n",
    "\n",
    "pd.set_option('display.max_columns', 999)\n",
    "%matplotlib inline\n",
    "# mpl.rcParams['text.usetex'] = False\n",
    "# mpl.rcParams['figure.dpi'] = 100\n",
    "# mpl.rcParams['figure.figsize'] = (8,6)"
   ]
  },
  {
   "cell_type": "code",
   "execution_count": 5,
   "metadata": {},
   "outputs": [],
   "source": [
    "# import CARMA celerite term\n",
    "from agntk.carma.CARMATerm import *\n",
    "from agntk.lc.utils import *\n",
    "from celerite import GP\n",
    "from scipy.optimize import minimize\n",
    "import celerite"
   ]
  },
  {
   "cell_type": "code",
   "execution_count": 6,
   "metadata": {},
   "outputs": [
    {
     "name": "stderr",
     "output_type": "stream",
     "text": [
      "/Users/weixiang/anaconda3/envs/py37/lib/python3.7/site-packages/distributed/node.py:155: UserWarning: Port 8787 is already in use.\n",
      "Perhaps you already have a cluster running?\n",
      "Hosting the HTTP server on port 57727 instead\n",
      "  http_address[\"port\"], self.http_server.port\n"
     ]
    },
    {
     "data": {
      "text/html": [
       "<table style=\"border: 2px solid white;\">\n",
       "<tr>\n",
       "<td style=\"vertical-align: top; border: 0px solid white\">\n",
       "<h3 style=\"text-align: left;\">Client</h3>\n",
       "<ul style=\"text-align: left; list-style: none; margin: 0; padding: 0;\">\n",
       "  <li><b>Scheduler: </b>tcp://127.0.0.1:57728</li>\n",
       "  <li><b>Dashboard: </b><a href='http://127.0.0.1:57727/status' target='_blank'>http://127.0.0.1:57727/status</a></li>\n",
       "</ul>\n",
       "</td>\n",
       "<td style=\"vertical-align: top; border: 0px solid white\">\n",
       "<h3 style=\"text-align: left;\">Cluster</h3>\n",
       "<ul style=\"text-align: left; list-style:none; margin: 0; padding: 0;\">\n",
       "  <li><b>Workers: </b>4</li>\n",
       "  <li><b>Cores: </b>8</li>\n",
       "  <li><b>Memory: </b>17.18 GB</li>\n",
       "</ul>\n",
       "</td>\n",
       "</tr>\n",
       "</table>"
      ],
      "text/plain": [
       "<Client: 'tcp://127.0.0.1:57728' processes=4 threads=8, memory=17.18 GB>"
      ]
     },
     "execution_count": 6,
     "metadata": {},
     "output_type": "execute_result"
    }
   ],
   "source": [
    "from dask.distributed import Client\n",
    "client = Client()\n",
    "client"
   ]
  },
  {
   "cell_type": "markdown",
   "metadata": {},
   "source": [
    "### 1. Simulate DHO LC"
   ]
  },
  {
   "cell_type": "code",
   "execution_count": 7,
   "metadata": {},
   "outputs": [],
   "source": [
    "# define GP model\n",
    "a1 = 0.03939692\n",
    "a2 = 0.00027941\n",
    "b0 = 0.0046724\n",
    "b1 = 0.0256982\n",
    "kernel = DHO_term(np.log(a1), np.log(a2), np.log(b0), np.log(b1))\n",
    "gp = GP(kernel)\n",
    "\n",
    "# check if Celerite give the same amp as Kali\n",
    "assert np.allclose(1.0, kernel.get_amp())"
   ]
  },
  {
   "cell_type": "code",
   "execution_count": 8,
   "metadata": {},
   "outputs": [
    {
     "name": "stdout",
     "output_type": "stream",
     "text": [
      "Mean Sim Std: 0.9626694231239606\n",
      "True Std: 1\n"
     ]
    }
   ],
   "source": [
    "# now simulate 10 years LC\n",
    "npts = 100\n",
    "nLC = 50\n",
    "\n",
    "# init with dense -> add season -> downsample\n",
    "t_init = np.linspace(0, 3650, 10000)\n",
    "yerr_init = np.random.normal(0, 1e-7, 10000) # give very tiny error\n",
    "gp.compute(t_init, yerr_init)\n",
    "y_init = gp.sample(size=nLC)\n",
    "\n",
    "tArr = np.zeros((nLC, npts))\n",
    "yArr = np.zeros((nLC, npts))\n",
    "yerrArr = np.zeros((nLC, npts))\n",
    "\n",
    "for i in range(nLC):    \n",
    "    mask1 = add_season(t_init)\n",
    "    mask2 = downsample_byN(t_init[mask1], npts)\n",
    "    tArr[i,:] = t_init[mask1][mask2]\n",
    "    yArr[i,:] = y_init[i][mask1][mask2]\n",
    "    yerrArr[i,:] = yerr_init[mask1][mask2]\n",
    "\n",
    "\n",
    "print(f'Mean Sim Std: {np.mean(np.std(yArr, axis=1))}')\n",
    "print(f'True Std: {1}')"
   ]
  },
  {
   "cell_type": "code",
   "execution_count": 9,
   "metadata": {},
   "outputs": [
    {
     "data": {
      "text/plain": [
       "Text(0.5, 1.0, 'Simulated DHO LC with Seasonal Gap')"
      ]
     },
     "execution_count": 9,
     "metadata": {},
     "output_type": "execute_result"
    },
    {
     "data": {
      "image/png": "[encoded data removed]",
      "text/plain": [
       "<Figure size 720x432 with 1 Axes>"
      ]
     },
     "metadata": {
      "needs_background": "light"
     },
     "output_type": "display_data"
    }
   ],
   "source": [
    "# # plot simulated LC\n",
    "fig = plt.figure(figsize=(10,6))\n",
    "plt.scatter(tArr[0], yArr[0], s=2)\n",
    "plt.title('Simulated DHO LC with Seasonal Gap')"
   ]
  },
  {
   "cell_type": "markdown",
   "metadata": {},
   "source": [
    "### 2. Test __basin-hopping__ algorithm"
   ]
  },
  {
   "cell_type": "code",
   "execution_count": 10,
   "metadata": {},
   "outputs": [],
   "source": [
    "from scipy.optimize import basinhopping\n",
    "\n",
    "# define log posterior function\n",
    "def neg_log_like(params, y, yerr, gp):\n",
    "    params = np.array(params)\n",
    "    # pure likelihood based\n",
    "    run = True\n",
    "    lap = 0\n",
    "    while run:\n",
    "        if lap > 50:\n",
    "            return -np.inf\n",
    "        \n",
    "        lap += 1\n",
    "        try:\n",
    "            gp.set_parameter_vector(params)\n",
    "            neg_ll = -gp.log_likelihood(y)\n",
    "            run=False\n",
    "        except celerite.solver.LinAlgError:\n",
    "            params += 1e-6*np.random.randn(4)\n",
    "            continue\n",
    "        except np.linalg.LinAlgError:\n",
    "            params += 1e-6*np.random.randn(4)\n",
    "            continue\n",
    "        \n",
    "    return neg_ll\n",
    "\n",
    "\n",
    "# # # define vectorized version\n",
    "# vec_neg_log_like = np.vectorize(neg_log_like, excluded=[1,2,3], signature='(n)->()')\n",
    "# vec_neg_log_prob = np.vectorize(neg_log_prob, excluded=[1,2,3], signature='(n)->()')"
   ]
  },
  {
   "cell_type": "code",
   "execution_count": 30,
   "metadata": {},
   "outputs": [],
   "source": [
    "# bounds for optimizer\n",
    "class MyBounds(object):\n",
    "    def __init__(self, xmin, xmax, **kwargs):\n",
    "        self.xmax = np.array(xmax)\n",
    "        self.xmin = np.array(xmin)\n",
    "     \n",
    "    def __call__(self, **kwargs):\n",
    "        x = kwargs[\"x_new\"]\n",
    "        tmax = bool(np.all(x <= self.xmax))\n",
    "        tmin = bool(np.all(x >= self.xmin))\n",
    "        print(kwargs['x_old'], kwargs['x_new'])\n",
    "#         print(kwargs['x_new'])\n",
    "        return (tmax and tmin)\n",
    "\n",
    "xmin=np.array([-10, -14, -12, -11])\n",
    "xmax=np.array([7, 7, -2, -2])\n",
    "mybounds = MyBounds(xmin=xmin, xmax=xmax)"
   ]
  },
  {
   "cell_type": "code",
   "execution_count": 58,
   "metadata": {},
   "outputs": [],
   "source": [
    "def fitDHO_bh(t, y, yerr, prob_func):\n",
    "    \n",
    "    ## start fitting\n",
    "    # initialize parameter in the possible range\n",
    "    a1 = np.exp(np.random.uniform(-3, 1, 1)[0])\n",
    "    a2 = np.exp(np.random.uniform(-6, 1, 1)[0])\n",
    "    b0 = np.exp(np.random.uniform(-10, -5, 1)[0])\n",
    "    b1 = np.exp(np.random.uniform(-10, -5, 1)[0])\n",
    "\n",
    "    kernel_fit = DHO_term(np.log(a1), np.log(a2), np.log(b0), np.log(b1))\n",
    "    gp_fit = GP(kernel_fit)\n",
    "    gp_fit.compute(t, yerr)\n",
    "\n",
    "    minimizer_kwargs = {\"method\":\"L-BFGS-B\", \"args\": (y, yerr, gp_fit)}\n",
    "    initial_params = gp_fit.get_parameter_vector()\n",
    "\n",
    "    ret = basinhopping(prob_func, initial_params, minimizer_kwargs=minimizer_kwargs, \\\n",
    "                       niter_success=200)\n",
    "    return ret.x\n",
    "\n",
    "def fitDHO_bh_dask(idx, prob_func):\n",
    "    \n",
    "    run=True\n",
    "    t = tArr[idx]\n",
    "    y = yArr[idx]\n",
    "    yerr = yerrArr[idx]\n",
    "    \n",
    "    while run:\n",
    "        ## start fitting\n",
    "        # initialize parameter in the possible range\n",
    "        a1 = np.exp(np.random.uniform(-10, 1, 1)[0])\n",
    "        a2 = np.exp(np.random.uniform(-14, -3, 1)[0])\n",
    "        b0 = np.exp(np.random.uniform(-10, -5, 1)[0])\n",
    "        b1 = np.exp(np.random.uniform(-10, -5, 1)[0])\n",
    "\n",
    "        kernel_fit = DHO_term(np.log(a1), np.log(a2), np.log(b0), np.log(b1))\n",
    "        gp_fit = GP(kernel_fit)\n",
    "        gp_fit.compute(t, yerr)\n",
    "\n",
    "        minimizer_kwargs = {\"method\":\"L-BFGS-B\", \"args\": (y, yerr, gp_fit)}\n",
    "        initial_params = gp_fit.get_parameter_vector()\n",
    "        print(f'Init: {initial_params}')\n",
    "        ret = basinhopping(prob_func, initial_params, minimizer_kwargs=minimizer_kwargs, \n",
    "                           niter_success=30, accept_test=mybounds, stepsize=4)\n",
    "    \n",
    "        # sometime basinhopping suggest something extremely off in the first\n",
    "        # iteration and will accept with no condition, this if clause check \n",
    "        # whether that's true, if so, redo the whole process\n",
    "        if np.all(ret.x <= xmax) and np.all(ret.x >= xmin):\n",
    "            run = False\n",
    "\n",
    "#     # if can't factorize, resample\n",
    "#     while run:\n",
    "#         try:\n",
    "#             gp_fit.set_parameter_vector([np.log(a1), np.log(a2), np.log(b0), np.log(b1)])\n",
    "\n",
    "#             run=False\n",
    "#         except celerite.solver.LinAlgError as e:\n",
    "#             print(e)\n",
    "#             # if can't factorize, redo random down sampling\n",
    "# #             mask1 = add_season(t_init)\n",
    "# #             mask2 = downsample_byN(t_init[mask1], npts)\n",
    "# #             t = tArr[idx,:] = t_init[mask1][mask2]\n",
    "# #             y = yArr[idx,:] = y_init[i][mask1][mask2]\n",
    "# #             yerr = yerrArr[idx,:] = yerr_init[mask1][mask2]\n",
    "#             continue  \n",
    "#         except np.linalg.LinAlgError as e:\n",
    "#             print(e)\n",
    "#             continue\n",
    "        \n",
    "    return ret.x"
   ]
  },
  {
   "cell_type": "code",
   "execution_count": 59,
   "metadata": {},
   "outputs": [],
   "source": [
    "ret_all = []\n",
    "for i in range(nLC):\n",
    "    ret = client.submit(fitDHO_bh_dask, i, neg_log_like)\n",
    "    ret_all.append(ret)\n",
    "\n",
    "result= client.gather(ret_all, errors='skip')"
   ]
  },
  {
   "cell_type": "code",
   "execution_count": null,
   "metadata": {},
   "outputs": [],
   "source": [
    "# fitDHO_bh_dask(40, neg_log_like)"
   ]
  },
  {
   "cell_type": "markdown",
   "metadata": {},
   "source": [
    "### 2.1 Plot the Err distribution"
   ]
  },
  {
   "cell_type": "code",
   "execution_count": 60,
   "metadata": {},
   "outputs": [],
   "source": [
    "# compute percentage err\n",
    "input_params = np.exp(gp.parameter_vector)[:4]\n",
    "best_params = np.exp(np.array(result))\n",
    "percent_err = 100*(best_params - input_params)/input_params"
   ]
  },
  {
   "cell_type": "code",
   "execution_count": 81,
   "metadata": {},
   "outputs": [],
   "source": []
  },
  {
   "cell_type": "code",
   "execution_count": 91,
   "metadata": {},
   "outputs": [
    {
     "data": {
      "text/plain": [
       "Text(0.5, 0, 'Percentage Error')"
      ]
     },
     "execution_count": 91,
     "metadata": {},
     "output_type": "execute_result"
    },
    {
     "data": {
      "image/png": "[encoded data removed]",
      "text/plain": [
       "<Figure size 800x600 with 1 Axes>"
      ]
     },
     "metadata": {},
     "output_type": "display_data"
    }
   ],
   "source": [
    "param_names = gp.parameter_names\n",
    "for i in range(4):\n",
    "    data_range = np.percentile(percent_err[:,i], [1, 99])\n",
    "    err2plot = percent_err[:,i][(percent_err[:,i]>data_range[0]) & (percent_err[:,i] < data_range[1])]\n",
    "    plt.hist(err2plot, label=param_names[i].split(':')[1], histtype='step', bins='fd')\n",
    "plt.legend()\n",
    "plt.title('Error distribution in best-fit DHO parameters')\n",
    "plt.xlabel('Percentage Error')"
   ]
  },
  {
   "cell_type": "markdown",
   "metadata": {},
   "source": [
    "<span style='color:red'>__Note:__ </span>After a series of fine tuning, I am able to reduce the error in best-fit parameter down to +/- 100%. It is still possible to get best-fit parameter that are quite off, the next level of improvement can come from multiple random initialization for each fit and pick the best one. As seen in the figure above, DHO also exhibits similar kind error distribution as the DRW, which cannot be further reduce."
   ]
  },
  {
   "cell_type": "code",
   "execution_count": null,
   "metadata": {},
   "outputs": [],
   "source": []
  }
 ],
 "metadata": {
  "kernelspec": {
   "display_name": "Python 3",
   "language": "python",
   "name": "python3"
  },
  "language_info": {
   "codemirror_mode": {
    "name": "ipython",
    "version": 3
   },
   "file_extension": ".py",
   "mimetype": "text/x-python",
   "name": "python",
   "nbconvert_exporter": "python",
   "pygments_lexer": "ipython3",
   "version": "3.7.7"
  }
 },
 "nbformat": 4,
 "nbformat_minor": 4
}
