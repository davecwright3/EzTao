{
 "cells": [
  {
   "cell_type": "markdown",
   "metadata": {},
   "source": [
    "## Introduction\n",
    "Here, we provide some background on CARMA models and the connection between CARMA and Gaussian Process (GP)."
   ]
  },
  {
   "source": [
    "### CARMA"
   ],
   "cell_type": "markdown",
   "metadata": {}
  },
  {
   "cell_type": "markdown",
   "metadata": {},
   "source": [
    "CARMA stands for continous-time autoregressive moving average, it is the continuous-time version of the better known autoregressive moving average (ARMA) model. In recent years, CARMA have been utilized to study time-domain data across many disciplines. In short, CARMA processes are defined as the solutions to the following stochastic differential equation:\n",
    "\n",
    "$$\\mathrm{d}^{p}x + \\alpha_{1} \\mathrm{d}^{p-1}x + \\ldots + \\alpha_{p-1} \\mathrm{d}x + \\alpha_{p}x = \\beta_{0} (\\mathrm{d}W) + \\ldots + \\beta_{q} \\mathrm{d}^{q}(\\mathrm{d}W),$$\n",
    "\n",
    "where $\\alpha_*$ and $\\beta_*$ are the parameters of a CARMA model. The order of the underlying differential equation can be specified using two numbers $p$ and $q$, where $p$ is the autoregressive (AR) order and $q$ is the moving average (MA) order. Thus, a particular CARMA model can also be referred to as a CARMA(p,q) model. For example, a CARMA(2,1) model will have a corresponding stochastic differential equation defined by:\n",
    "\n",
    "$$\\mathrm{d}^{2}x + \\alpha_{1} \\mathrm{d}x + \\alpha_{2}x = \\beta_{0} (\\mathrm{d}W) + \\beta_{1} \\mathrm{d}^{1}(\\mathrm{d}W)$$\n",
    "\n",
    "In fact, the popular (in astronomy) Damped Random Walk (DRW) model is simply the lowest order CARMA model, namely CARMA(1,0) with a stochastic differential equation defined by:\n",
    "\n",
    "$$\\mathrm{d}x + \\alpha_{1}x = \\beta_{0} (\\mathrm{d}W) $$\n",
    "\n",
    "For more on CARMA models, please see:\n",
    "\n",
    "- [Jones & Ackerson 1990](https://www.jstor.org/stable/2337095?origin=crossref&seq=1)\n",
    "- [Brockwell 2001](https://www.sciencedirect.com/science/article/pii/S0169716101190115?via%3Dihub)\n",
    "- [Kelly et al. 2014](http://iopscience.iop.org/article/10.1088/0004-637X/788/1/33/meta)\n",
    "- [Kasliwal et al. 2017](https://academic.oup.com/mnras/article/470/3/3027/3865153)"
   ]
  },
  {
   "source": [
    "<div class=\"alert alert-info\">\n",
    "\n",
    "Note\n",
    "\n",
    "The notation used in this section (and through out **EzTao**) follows the standard using in [Brockwell 2001](https://www.sciencedirect.com/science/article/pii/S0169716101190115?via%3Dihub).\n",
    "\n",
    "</div>"
   ],
   "cell_type": "markdown",
   "metadata": {}
  },
  {
   "cell_type": "markdown",
   "metadata": {},
   "source": [
    "### CARMA as GPs -> EzTao"
   ]
  },
  {
   "cell_type": "markdown",
   "metadata": {},
   "source": [
    "CARMA processes (driven by gaussian noises) are in fact Gaussian Processes (GPs) by definition, thus, in principle the likelihood function of CARMA can be evaluated using GPs. However, such as a process requires inverting the autocovariance matrix, which scales as $O(N^{3})$, where $N$ is the number data points in a time series. The high computational cost, especially for time series having large number of data points, makes it intractable to use GPs to evaluate the likelihood function of CARMA models. Recent development in GPs, in particular, the generalization of [Rybicki & Press 1995](https://journals.aps.org/prl/abstract/10.1103/PhysRevLett.74.1060)'s method to a much larger set of kernels (demonstrated in [Foreman-Mackey et al. 2017](https://iopscience.iop.org/article/10.3847/1538-3881/aa9332) has made it possible to compute the likelihood of CARMA models in $O(NJ^{2})$ operations, where $J$ is the p order of a CARMA(p, q) model. Although the computational complexsity for the GP solution is the same as that of the *Kalman filter* solution, the GP solution is about 10 times faster on average.\n",
    "\n",
    "$\\mathit{celerite}$ provides built-in support for evaluation of DRW's likelihood function using the real kernel, but not any other CARMA model. **EzTao** generalizes this approach to **ALL** CARMA models, and provides tools to facilitate the simulation and analysis of time series data using CARMA. **EzTao** uses a set of CARMA kernels, which you can define using regular CARMA notation, to handle the conversion between CARMA and $\\mathit{celerite}$'s GPs. Those CARMA kernels are listed in the [eztao.carma.CARMATerm](../python/carma.rst) module."
   ]
  }
 ],
 "metadata": {
  "kernelspec": {
   "display_name": "Python 3",
   "language": "python",
   "name": "python3"
  },
  "language_info": {
   "codemirror_mode": {
    "name": "ipython",
    "version": 3
   },
   "file_extension": ".py",
   "mimetype": "text/x-python",
   "name": "python",
   "nbconvert_exporter": "python",
   "pygments_lexer": "ipython3",
   "version": "3.8.3"
  }
 },
 "nbformat": 4,
 "nbformat_minor": 4
}