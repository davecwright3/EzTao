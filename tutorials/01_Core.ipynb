{
 "cells": [
  {
   "cell_type": "markdown",
   "metadata": {},
   "source": [
    "The core module of __EzTao__ is `carma.CARMATerm`, which contains the CARMA GP kernels that extend the $\\mathit{celerite}$'s `terms.Term` object and other functions to carry out the mapping from CARMA to $\\mathit{celerite}$. There are three CARMA kernels in this module: `DRW_term`, `DHO_term` and `CARMA_term`. These kernels play the role of connecting CARMA processes to $\\mathit{celerite}$ GPs."
   ]
  },
  {
   "cell_type": "markdown",
   "metadata": {},
   "source": [
    "### 1. DRW_term & DHO_term\n",
    "The first two are fixed-order CARMA models, specifically CARMA(1,0) and CARMA(2,1) models. Each can be initialized by providing a set of valid CARMA parameters (in the log scale)."
   ]
  },
  {
   "cell_type": "code",
   "execution_count": 1,
   "metadata": {},
   "outputs": [],
   "source": [
    "from eztao.carma import DRW_term, DHO_term"
   ]
  },
  {
   "cell_type": "code",
   "execution_count": 2,
   "metadata": {},
   "outputs": [
    {
     "data": {
      "text/plain": [
       "\u001b[0;31mInit signature:\u001b[0m \u001b[0mDRW_term\u001b[0m\u001b[0;34m(\u001b[0m\u001b[0;34m*\u001b[0m\u001b[0margs\u001b[0m\u001b[0;34m,\u001b[0m \u001b[0;34m**\u001b[0m\u001b[0mkwargs\u001b[0m\u001b[0;34m)\u001b[0m\u001b[0;34m\u001b[0m\u001b[0;34m\u001b[0m\u001b[0m\n",
       "\u001b[0;31mDocstring:\u001b[0m     \n",
       "Damped Random Walk term.\n",
       "\n",
       "Args:\n",
       "    log_sigma(float): Sigma is the standard deviation of the DRW process.\n",
       "    log_tau(float): Tau is the characteristic timescale of the DRW process.\n",
       "\u001b[0;31mFile:\u001b[0m           ~/anaconda3/envs/py37/lib/python3.7/site-packages/eztao/carma/CARMATerm.py\n",
       "\u001b[0;31mType:\u001b[0m           type\n",
       "\u001b[0;31mSubclasses:\u001b[0m     \n"
      ]
     },
     "metadata": {},
     "output_type": "display_data"
    }
   ],
   "source": [
    "DRW_term?"
   ]
  },
  {
   "cell_type": "code",
   "execution_count": 3,
   "metadata": {},
   "outputs": [
    {
     "data": {
      "text/plain": [
       "\u001b[0;31mInit signature:\u001b[0m \u001b[0mDHO_term\u001b[0m\u001b[0;34m(\u001b[0m\u001b[0mlog_a1\u001b[0m\u001b[0;34m,\u001b[0m \u001b[0mlog_a2\u001b[0m\u001b[0;34m,\u001b[0m \u001b[0mlog_b0\u001b[0m\u001b[0;34m,\u001b[0m \u001b[0mlog_b1\u001b[0m\u001b[0;34m,\u001b[0m \u001b[0;34m*\u001b[0m\u001b[0margs\u001b[0m\u001b[0;34m,\u001b[0m \u001b[0;34m**\u001b[0m\u001b[0mkwargs\u001b[0m\u001b[0;34m)\u001b[0m\u001b[0;34m\u001b[0m\u001b[0;34m\u001b[0m\u001b[0m\n",
       "\u001b[0;31mDocstring:\u001b[0m     \n",
       "Damped Harmonic Oscillator term.\n",
       "\n",
       "Args:\n",
       "    log_a1 (float): The natual logarithm of DHO parameter a1.\n",
       "    log_a2 (float): The natual logarithm of DHO parameter a2.\n",
       "    log_b0 (float): The natual logarithm of DHO parameter b0.\n",
       "    log_b1 (float): The natual logarithm of DHO parameter b1.\n",
       "\u001b[0;31mInit docstring:\u001b[0m Inits DHO term.\n",
       "\u001b[0;31mFile:\u001b[0m           ~/anaconda3/envs/py37/lib/python3.7/site-packages/eztao/carma/CARMATerm.py\n",
       "\u001b[0;31mType:\u001b[0m           type\n",
       "\u001b[0;31mSubclasses:\u001b[0m     \n"
      ]
     },
     "metadata": {},
     "output_type": "display_data"
    }
   ],
   "source": [
    "DHO_term?"
   ]
  },
  {
   "cell_type": "markdown",
   "metadata": {},
   "source": [
    "### 2. CARMA_term\n",
    "This is a general CARMA kernel."
   ]
  },
  {
   "cell_type": "code",
   "execution_count": 4,
   "metadata": {},
   "outputs": [],
   "source": [
    "from eztao.carma import CARMA_term"
   ]
  },
  {
   "cell_type": "code",
   "execution_count": 5,
   "metadata": {},
   "outputs": [
    {
     "data": {
      "text/plain": [
       "\u001b[0;31mInit signature:\u001b[0m \u001b[0mCARMA_term\u001b[0m\u001b[0;34m(\u001b[0m\u001b[0mlog_arpars\u001b[0m\u001b[0;34m,\u001b[0m \u001b[0mlog_mapars\u001b[0m\u001b[0;34m,\u001b[0m \u001b[0;34m*\u001b[0m\u001b[0margs\u001b[0m\u001b[0;34m,\u001b[0m \u001b[0;34m**\u001b[0m\u001b[0mkwargs\u001b[0m\u001b[0;34m)\u001b[0m\u001b[0;34m\u001b[0m\u001b[0;34m\u001b[0m\u001b[0m\n",
       "\u001b[0;31mDocstring:\u001b[0m     \n",
       "General CARMA term with arbitray parameters.\n",
       "\n",
       "Args:\n",
       "    log_arpars (list): The logarithm of AR coefficients.\n",
       "    log_mapars (list): The logarithm of MA coefficients.\n",
       "\u001b[0;31mFile:\u001b[0m           ~/anaconda3/envs/py37/lib/python3.7/site-packages/eztao/carma/CARMATerm.py\n",
       "\u001b[0;31mType:\u001b[0m           type\n",
       "\u001b[0;31mSubclasses:\u001b[0m     DHO_term\n"
      ]
     },
     "metadata": {},
     "output_type": "display_data"
    }
   ],
   "source": [
    "CARMA_term?"
   ]
  },
  {
   "cell_type": "code",
   "execution_count": null,
   "metadata": {},
   "outputs": [],
   "source": []
  }
 ],
 "metadata": {
  "kernelspec": {
   "display_name": "Python 3",
   "language": "python",
   "name": "python3"
  },
  "language_info": {
   "codemirror_mode": {
    "name": "ipython",
    "version": 3
   },
   "file_extension": ".py",
   "mimetype": "text/x-python",
   "name": "python",
   "nbconvert_exporter": "python",
   "pygments_lexer": "ipython3",
   "version": "3.7.7"
  }
 },
 "nbformat": 4,
 "nbformat_minor": 4
}
