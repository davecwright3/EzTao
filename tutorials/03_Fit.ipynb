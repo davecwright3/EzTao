{
 "cells": [
  {
   "cell_type": "code",
   "execution_count": 1,
   "metadata": {},
   "outputs": [],
   "source": [
    "%load_ext autoreload\n",
    "%autoreload 2"
   ]
  },
  {
   "cell_type": "markdown",
   "metadata": {},
   "source": [
    "Fitting time series to CARMA models using __EzTao__ can be done in just one line. In this notebook, we demonstrate how to quickly get a reliable best-fit CARMA parameters using the built-in fitting functions. However, you are not bond to those built-in functions; you can use the CARMA kernels to compute likelihood and combine that with other optimizers to get the best-fit parameters, which we will also demonstrate in this notebook."
   ]
  },
  {
   "cell_type": "markdown",
   "metadata": {},
   "source": [
    "### 1. The built-in fitting functions"
   ]
  },
  {
   "cell_type": "markdown",
   "metadata": {},
   "source": [
    "There are three built-in fitting functions:\n",
    "- `drw_fit`: Fit input time series to a DRW model\n",
    "- `dho_fit`: Fit input time series to a DHO/CARMA(2,1) model\n",
    "- `carma_fit`: Fit input time series to an arbitrary CARMA model.\n",
    "\n",
    "The first two should be used if you want to fit data to DRW or DHO, and the last one is a more general fitting function. Next, let's take a good at the `carma_fit` function."
   ]
  },
  {
   "cell_type": "code",
   "execution_count": 2,
   "metadata": {},
   "outputs": [],
   "source": [
    "from eztao.ts import carma_fit"
   ]
  },
  {
   "cell_type": "code",
   "execution_count": 3,
   "metadata": {},
   "outputs": [
    {
     "data": {
      "text/plain": [
       "\u001b[0;31mSignature:\u001b[0m\n",
       "\u001b[0mcarma_fit\u001b[0m\u001b[0;34m(\u001b[0m\u001b[0;34m\u001b[0m\n",
       "\u001b[0;34m\u001b[0m    \u001b[0mt\u001b[0m\u001b[0;34m,\u001b[0m\u001b[0;34m\u001b[0m\n",
       "\u001b[0;34m\u001b[0m    \u001b[0my\u001b[0m\u001b[0;34m,\u001b[0m\u001b[0;34m\u001b[0m\n",
       "\u001b[0;34m\u001b[0m    \u001b[0myerr\u001b[0m\u001b[0;34m,\u001b[0m\u001b[0;34m\u001b[0m\n",
       "\u001b[0;34m\u001b[0m    \u001b[0mp\u001b[0m\u001b[0;34m,\u001b[0m\u001b[0;34m\u001b[0m\n",
       "\u001b[0;34m\u001b[0m    \u001b[0mq\u001b[0m\u001b[0;34m,\u001b[0m\u001b[0;34m\u001b[0m\n",
       "\u001b[0;34m\u001b[0m    \u001b[0mde\u001b[0m\u001b[0;34m=\u001b[0m\u001b[0;32mTrue\u001b[0m\u001b[0;34m,\u001b[0m\u001b[0;34m\u001b[0m\n",
       "\u001b[0;34m\u001b[0m    \u001b[0mdebug\u001b[0m\u001b[0;34m=\u001b[0m\u001b[0;32mFalse\u001b[0m\u001b[0;34m,\u001b[0m\u001b[0;34m\u001b[0m\n",
       "\u001b[0;34m\u001b[0m    \u001b[0mmode\u001b[0m\u001b[0;34m=\u001b[0m\u001b[0;34m'coeff'\u001b[0m\u001b[0;34m,\u001b[0m\u001b[0;34m\u001b[0m\n",
       "\u001b[0;34m\u001b[0m    \u001b[0muser_bounds\u001b[0m\u001b[0;34m=\u001b[0m\u001b[0;32mNone\u001b[0m\u001b[0;34m,\u001b[0m\u001b[0;34m\u001b[0m\n",
       "\u001b[0;34m\u001b[0m    \u001b[0mn_iter\u001b[0m\u001b[0;34m=\u001b[0m\u001b[0;36m10\u001b[0m\u001b[0;34m,\u001b[0m\u001b[0;34m\u001b[0m\n",
       "\u001b[0;34m\u001b[0m\u001b[0;34m)\u001b[0m\u001b[0;34m\u001b[0m\u001b[0;34m\u001b[0m\u001b[0m\n",
       "\u001b[0;31mDocstring:\u001b[0m\n",
       "Fit time series to any CARMA model.\n",
       "\n",
       "Args:\n",
       "    t (object): An array of time stamps in days.\n",
       "    y (object): An array of y values.\n",
       "    yerr (object): An array of the errors in y values.\n",
       "    p (int): P order of a CARMA(p, q) model.\n",
       "    q (int): Q order of a CARMA(p, q) model.\n",
       "    de (bool, optional): Whether to use differential_evolution as the\n",
       "        optimizer. Defaults to True.\n",
       "    debug (bool, optional): Turn on/off debug mode. Defaults to False.\n",
       "    mode (str, optional): Specify which space to sample, 'param' or 'coeff'.\n",
       "        Defaults to 'coeff'.\n",
       "    user_bounds (list, optional): Factorized polynomial coefficient boundaries\n",
       "        for the optimizer. Defaults to None.\n",
       "    n_iter (int, optional): Number of iterations to run the optimizer if de==False.\n",
       "        Defaults to 10.\n",
       "\n",
       "Raises:\n",
       "    celerite.solver.LinAlgError: For non-positive definite matrices.\n",
       "\n",
       "Returns:\n",
       "    object: An array of best-fit CARMA parameters\n",
       "\u001b[0;31mFile:\u001b[0m      ~/Projects/EzTao/src/eztao/ts/carma.py\n",
       "\u001b[0;31mType:\u001b[0m      function\n"
      ]
     },
     "metadata": {},
     "output_type": "display_data"
    }
   ],
   "source": [
    "carma_fit?"
   ]
  },
  {
   "cell_type": "markdown",
   "metadata": {},
   "source": [
    "Without going into the details, let's try to simulate a DHO process and fit the simulated time series using `carma_fit`."
   ]
  },
  {
   "cell_type": "code",
   "execution_count": 4,
   "metadata": {},
   "outputs": [],
   "source": [
    "import numpy as np\n",
    "from eztao.carma import DHO_term\n",
    "from eztao.ts import gpSimRand\n",
    "\n",
    "# define kernel\n",
    "dho_kernel = DHO_term(np.log(0.04), np.log(0.0027941), np.log(0.004672), \n",
    "                      np.log(0.0257))\n",
    "\n",
    "# simulate a DHO process\n",
    "nLC = 1\n",
    "t, y, yerr = gpSimRand(dho_kernel, 10, 365*10, 200, nLC=nLC)"
   ]
  },
  {
   "cell_type": "code",
   "execution_count": 5,
   "metadata": {},
   "outputs": [
    {
     "name": "stdout",
     "output_type": "stream",
     "text": [
      "True input DHO parameters:[0.04      0.0027941 0.004672  0.0257   ]\n",
      "Best-fit DHO parameters: [0.02492358 0.00271064 0.00432164 0.02255924]\n",
      "----------------------------------------------------\n",
      "CPU times: user 558 ms, sys: 5.21 ms, total: 563 ms\n",
      "Wall time: 564 ms\n"
     ]
    }
   ],
   "source": [
    "%%time\n",
    "# fit\n",
    "best_fit = carma_fit(t, y, yerr, 2, 1)\n",
    "\n",
    "print(f'True input DHO parameters:{np.exp(dho_kernel.get_parameter_vector())}')\n",
    "print(f'Best-fit DHO parameters: {best_fit}')\n",
    "print('----------------------------------------------------')"
   ]
  },
  {
   "cell_type": "markdown",
   "metadata": {},
   "source": [
    "From the cell above, we can see that it took < 1 second to obtain a best-fit that is quite close to the input. The robust performance is a result of a combination of many carefully chosen fitting components, most importantly the $\\mathit{celerite}$ backend and a powerful global optimizer. However, we want to note that to better fit time series to models with orders higher than CARMA(2,1), more robust global optimizer might be needed. In the last section, we will show how to choose your own optimizer to obtain best-fit parameters. "
   ]
  },
  {
   "cell_type": "markdown",
   "metadata": {},
   "source": [
    "#### _A Note on Optimizers:_\n",
    "The built-in fitting functions provide two optimizers from which you can choose to use: \n",
    "- `scipy.optimize.differential_evolution`\n",
    "- `scipy.optimize.minimize`: A modified version. \n",
    "\n",
    "The modification (run more iterations with different initializations) done on the second optimizer is to mitigate the possibility of getting trapped in local optima. You can choose which to use by setting the `de` argument in each fitting function. "
   ]
  },
  {
   "cell_type": "markdown",
   "metadata": {},
   "source": [
    "### 2. Fit time series to models higher than CARMA(2,1)"
   ]
  },
  {
   "cell_type": "markdown",
   "metadata": {},
   "source": [
    "More care must be taken when fitting time series to CARMA models higher than CARMA(2,1). The reason is that for CARMA models more complex than CARMA(2,1), the vanilla CARMA parameter space is no longer continuous; in other words, a random set of CARMA parameters may not produce a stable CARMA process, thus cannot return a valid likelihood during the fitting process. The solution to this problem is to sample from a space spanned by the coefficients of the AR/MA characteristic polynomials in the factored form. To learn more about this property of CARMA, please check out the papers linked in the [00_Introduction](./00_Introduction.ipynb) notebook.\n",
    "\n",
    "With __EzTao__, you don't need to worry about the transformation between these two spaces. All you need to do is to tell the `carma_fit` function to fit in the polynomial coefficient space by setting `mode` to 'coeff'. We will illustrate how to do that below."
   ]
  },
  {
   "cell_type": "code",
   "execution_count": 6,
   "metadata": {},
   "outputs": [],
   "source": [
    "# simulate a CARMA(3,0) process\n",
    "from eztao.carma import CARMA_term\n",
    "\n",
    "carma_kernel = CARMA_term(np.log([3, 3.189, 0.05]), np.log([0.5]))\n",
    "t2, y2, yerr2 = gpSimRand(carma_kernel, 30, 365*10, 200, nLC=nLC)"
   ]
  },
  {
   "cell_type": "code",
   "execution_count": 7,
   "metadata": {},
   "outputs": [
    {
     "data": {
      "text/plain": [
       "Text(0.5, 1.0, 'Simulated CARMA(3,0) processes')"
      ]
     },
     "execution_count": 7,
     "metadata": {},
     "output_type": "execute_result"
    },
    {
     "data": {
      "image/png": "[encoded data removed]",
      "text/plain": [
       "<Figure size 1200x450 with 1 Axes>"
      ]
     },
     "metadata": {
      "needs_background": "light"
     },
     "output_type": "display_data"
    }
   ],
   "source": [
    "import matplotlib.pyplot as plt\n",
    "\n",
    "# plot the simulated process\n",
    "fig, ax = plt.subplots(1,1, dpi=150, figsize=(8,3))\n",
    "ax.errorbar(t2, y2, yerr2, fmt='.', markersize=4)\n",
    "ax.set_xlabel('Time (day)')\n",
    "ax.set_ylabel('Flux (arb. unit)')\n",
    "ax.set_title('Simulated CARMA(3,0) processes')"
   ]
  },
  {
   "cell_type": "markdown",
   "metadata": {},
   "source": [
    "Now, let's fit the simulated process using CARMA(3,0)"
   ]
  },
  {
   "cell_type": "code",
   "execution_count": 8,
   "metadata": {},
   "outputs": [
    {
     "name": "stdout",
     "output_type": "stream",
     "text": [
      "True input CARMA(3,0) parameters:[3.    3.189 0.05  0.5  ]\n",
      "Best-fit CARMA(3,0) parameters: [1.14447301 1.09315076 0.01956948 0.15714748]\n",
      "----------------------------------------------------\n",
      "CPU times: user 554 ms, sys: 6.68 ms, total: 560 ms\n",
      "Wall time: 562 ms\n"
     ]
    }
   ],
   "source": [
    "%%time\n",
    "# fit\n",
    "best_fit2 = carma_fit(t2, y2, yerr2, 3, 0, de=False, mode='coeff')\n",
    "print(f'True input CARMA(3,0) parameters:{np.exp(carma_kernel.get_parameter_vector())}')\n",
    "print(f'Best-fit CARMA(3,0) parameters: {best_fit2}')\n",
    "print('----------------------------------------------------')"
   ]
  },
  {
   "cell_type": "markdown",
   "metadata": {},
   "source": [
    "#### __Note:__ \n",
    "We stress that getting accurate best-fit parameters (without running long MCMC) for CARMA processes that are higher than CARMA(2,1) requires more robust optimizers than what's currently implemented. On the other hand, our experience taught us that the higher the order of the CARMA model that we are fitting the better the S/N that we will need in order obtain accurate and reliable best-fit."
   ]
  },
  {
   "cell_type": "markdown",
   "metadata": {},
   "source": [
    "### 3. Use your own optimizer\n",
    "Using your own optimizer is very straight forward. All you need to do is using your optimizer to generate parameter proposals and use the CARMA kernels from __EzTao__ to compose a likelihood function. Caution should be taken when fitting to models that are higher than CARMA(2,1) as I explained above, and I will reemphasize below as well. I will use the steps shown in [$\\mathit{celerite}$'s tutorials](https://celerite.readthedocs.io/en/stable/tutorials/first/) to illustrate the process. "
   ]
  },
  {
   "cell_type": "markdown",
   "metadata": {},
   "source": [
    "#### 3.1 Fit models that are equal or lower than CARMA(2,1)\n",
    "The process to fit time series to those three models is no different than what's shown in $\\mathit{celerite}$'s tutorials. You can compose your own likelihood function (`neg_log_like`) like what's demonstrated, __EzTao__ also provides the likelihood function: `neg_param_ll`, the equivalence of `neg_log_like`."
   ]
  },
  {
   "cell_type": "code",
   "execution_count": 9,
   "metadata": {},
   "outputs": [],
   "source": [
    "from celerite import GP\n",
    "from eztao.ts import neg_param_ll\n",
    "from eztao.ts import dho_log_param_init # only used to initialize kernel\n",
    "from scipy.optimize import minimize"
   ]
  },
  {
   "cell_type": "code",
   "execution_count": 10,
   "metadata": {},
   "outputs": [
    {
     "name": "stdout",
     "output_type": "stream",
     "text": [
      "Initial log likelihood: -25101.114616129606\n"
     ]
    }
   ],
   "source": [
    "dho_kernel_fit = DHO_term(*dho_log_param_init())\n",
    "gp = GP(dho_kernel_fit, mean=np.mean(y))\n",
    "gp.compute(t, yerr)\n",
    "print(\"Initial log likelihood: {0}\".format(gp.log_likelihood(y)))"
   ]
  },
  {
   "cell_type": "code",
   "execution_count": 11,
   "metadata": {},
   "outputs": [],
   "source": [
    "gp.kernel.set_parameter_vector(dho_log_param_init())\n",
    "initial_params = gp.get_parameter_vector()\n",
    "bounds = gp.get_parameter_bounds()\n",
    "\n",
    "r = minimize(neg_param_ll, initial_params, bounds=bounds, method=\"L-BFGS-B\", args=(y, gp))\n",
    "gp.set_parameter_vector(r.x)"
   ]
  },
  {
   "cell_type": "code",
   "execution_count": 12,
   "metadata": {},
   "outputs": [
    {
     "name": "stdout",
     "output_type": "stream",
     "text": [
      "True input DHO parameters:[0.04      0.0027941 0.004672  0.0257   ]\n",
      "Best-fit DHO parameters: [0.02440775 0.0027334  0.00428213 0.02260997]\n",
      "Final likelihood: 146.17015933464464\n"
     ]
    }
   ],
   "source": [
    "print(f'True input DHO parameters:{np.exp(dho_kernel.get_parameter_vector())}')\n",
    "print(f'Best-fit DHO parameters: {np.exp(r.x)}')\n",
    "print(f'Final likelihood: {gp.log_likelihood(y)}')"
   ]
  },
  {
   "cell_type": "markdown",
   "metadata": {},
   "source": [
    "#### 3.2 Fit models that are higher than CARMA(2,1)\n",
    "Fit time series to higher order models is not hard either, all you need to do is change `neg_param_ll` with `neg_fcoeff_ll`. If you would like to compose your own likelihood function, you need to change `gp.set_parameter_vector(params)` to `gp.kernel.set_log_fcoeffs(params)`. The current implementation doesn't allow combining CARMA kernels with other kernels (e.g., jitter or a trend), but future versions, especially after switching the backend to $\\mathit{celerite2}$, we will look at adding this feature."
   ]
  },
  {
   "cell_type": "code",
   "execution_count": 13,
   "metadata": {},
   "outputs": [],
   "source": [
    "from eztao.ts.carma import sample_carma\n",
    "from eztao.ts import neg_fcoeff_ll\n",
    "from eztao.ts.carma import carma_log_fcoeff_init, carma_log_param_init"
   ]
  },
  {
   "cell_type": "code",
   "execution_count": 14,
   "metadata": {},
   "outputs": [
    {
     "name": "stdout",
     "output_type": "stream",
     "text": [
      "Warning: CARMA process is not stationary!\n"
     ]
    }
   ],
   "source": [
    "# randomly initializing a carma kernel (without verifying the validity)\n",
    "rand_params = carma_log_param_init(4)\n",
    "carma_kernel_fit = CARMA_term(np.array(rand_params[:3]), np.array(rand_params[3:]))"
   ]
  },
  {
   "cell_type": "code",
   "execution_count": 15,
   "metadata": {},
   "outputs": [
    {
     "name": "stdout",
     "output_type": "stream",
     "text": [
      "Initial log likelihood: -4663.089890986434\n"
     ]
    }
   ],
   "source": [
    "# initialize GP and update with valid parameters\n",
    "init_coeff = carma_log_fcoeff_init(4)\n",
    "gp2 = GP(carma_kernel_fit, mean=np.mean(y2))\n",
    "gp2.kernel.set_log_fcoeffs(init_coeff)\n",
    "gp2.compute(t2, yerr2)\n",
    "print(\"Initial log likelihood: {0}\".format(gp2.log_likelihood(y2)))"
   ]
  },
  {
   "cell_type": "code",
   "execution_count": 16,
   "metadata": {},
   "outputs": [],
   "source": [
    "initial_params = init_coeff\n",
    "\n",
    "# giving a 'valid' boundary is often a good practice\n",
    "# try it without the boundary yourself\n",
    "ARbounds = [(-6, 1)] * 3\n",
    "MAbounds = [(-6, -1)] * (0 + 1)\n",
    "bounds = ARbounds + MAbounds\n",
    "\n",
    "r2 = minimize(neg_fcoeff_ll, initial_params, bounds=bounds, method=\"L-BFGS-B\", args=(y2, gp2))\n",
    "gp2.kernel.set_log_fcoeffs(r2.x)"
   ]
  },
  {
   "cell_type": "code",
   "execution_count": 17,
   "metadata": {},
   "outputs": [
    {
     "name": "stdout",
     "output_type": "stream",
     "text": [
      "True input DHO parameters:[3.    3.189 0.05  0.5  ]\n",
      "Best-fit DHO parameters: [1.14230678 1.09206815 0.01960862 0.15690063]\n",
      "Final likelihood: -32.89851150463414\n"
     ]
    }
   ],
   "source": [
    "print(f'True input DHO parameters:{np.exp(carma_kernel.get_parameter_vector())}')\n",
    "print(f'Best-fit DHO parameters: {np.exp(gp2.get_parameter_vector())}')\n",
    "print(f'Final likelihood: {gp2.log_likelihood(y2)}')"
   ]
  },
  {
   "cell_type": "markdown",
   "metadata": {},
   "source": [
    "---\n",
    "### _Some Notes on Fitting_\n",
    "- We can only do as good as the likelihood landscape allows (unless you can come up with a useful prior landscape)\n",
    "- The likelihood landscape is highly influenced by the intrinsic quality of the input time series, such as sampling and the level of measurement noise."
   ]
  }
 ],
 "metadata": {
  "kernelspec": {
   "display_name": "Eztao",
   "language": "python",
   "name": "eztao"
  },
  "language_info": {
   "codemirror_mode": {
    "name": "ipython",
    "version": 3
   },
   "file_extension": ".py",
   "mimetype": "text/x-python",
   "name": "python",
   "nbconvert_exporter": "python",
   "pygments_lexer": "ipython3",
   "version": "3.8.2"
  },
  "toc-autonumbering": false,
  "toc-showmarkdowntxt": false,
  "toc-showtags": false
 },
 "nbformat": 4,
 "nbformat_minor": 4
}
